{
 "cells": [
  {
   "cell_type": "markdown",
   "id": "9d4b8b95",
   "metadata": {},
   "source": [
    "## Stationarity Test"
   ]
  },
  {
   "cell_type": "markdown",
   "id": "f97667f8",
   "metadata": {},
   "source": [
    "It is important to ensure the time series is stationary before it can be used to fit forecasting models. If the time series is non-stationary (i.e if the means, variances, covariances changes with time), it cannot be used for predicting future data points."
   ]
  },
  {
   "cell_type": "code",
   "execution_count": null,
   "id": "a65182c5",
   "metadata": {},
   "outputs": [],
   "source": [
    "import import_ipynb\n",
    "import data_analysis\n",
    "import numpy as np\n",
    "import pandas as pd\n",
    "import matplotlib.pyplot as plt\n",
    "from statsmodels.tsa.stattools import adfuller"
   ]
  },
  {
   "cell_type": "code",
   "execution_count": 2,
   "id": "5352ad34",
   "metadata": {},
   "outputs": [],
   "source": [
    "ds = data_analysis.dataset"
   ]
  },
  {
   "cell_type": "code",
   "execution_count": 3,
   "id": "552db026",
   "metadata": {},
   "outputs": [],
   "source": [
    "#  Function referenced from statsmodel docs\n",
    "def adf_test(timeseries):\n",
    "    print(\"Results of Dickey-Fuller Test:\")\n",
    "    dftest = adfuller(timeseries, autolag=\"AIC\")\n",
    "    dfoutput = pd.Series(\n",
    "        dftest[0:4],\n",
    "        index=[\n",
    "            \"Test Statistic\",\n",
    "            \"p-value\",\n",
    "            \"#Lags Used\",\n",
    "            \"Number of Observations Used\",\n",
    "        ],\n",
    "    )\n",
    "    for key, value in dftest[4].items():\n",
    "        dfoutput[\"Critical Value (%s)\" % key] = value\n",
    "    print(dfoutput)"
   ]
  },
  {
   "cell_type": "markdown",
   "id": "1fde628b",
   "metadata": {},
   "source": [
    "### Verizon"
   ]
  },
  {
   "cell_type": "code",
   "execution_count": 4,
   "id": "6fb589cd",
   "metadata": {},
   "outputs": [
    {
     "name": "stdout",
     "output_type": "stream",
     "text": [
      "Results of Dickey-Fuller Test:\n",
      "Test Statistic                  -3.088076\n",
      "p-value                          0.027448\n",
      "#Lags Used                      13.000000\n",
      "Number of Observations Used    494.000000\n",
      "Critical Value (1%)             -3.443657\n",
      "Critical Value (5%)             -2.867408\n",
      "Critical Value (10%)            -2.569896\n",
      "dtype: float64\n"
     ]
    }
   ],
   "source": [
    "adf_test(ds['VZ'])"
   ]
  },
  {
   "cell_type": "markdown",
   "id": "29c103de",
   "metadata": {},
   "source": [
    "The Augmented Dickey-Fuller Test for Verizon stock prices shows the p-value obtained is less than 0.05. So we can reject the null hypothesis that the time series is a random walk. The data is stationary."
   ]
  },
  {
   "cell_type": "markdown",
   "id": "3df18083",
   "metadata": {},
   "source": [
    "### AT&T"
   ]
  },
  {
   "cell_type": "code",
   "execution_count": 5,
   "id": "a765ed8d",
   "metadata": {},
   "outputs": [
    {
     "name": "stdout",
     "output_type": "stream",
     "text": [
      "Results of Dickey-Fuller Test:\n",
      "Test Statistic                  -1.252554\n",
      "p-value                          0.650590\n",
      "#Lags Used                      13.000000\n",
      "Number of Observations Used    494.000000\n",
      "Critical Value (1%)             -3.443657\n",
      "Critical Value (5%)             -2.867408\n",
      "Critical Value (10%)            -2.569896\n",
      "dtype: float64\n"
     ]
    }
   ],
   "source": [
    "adf_test(ds['T'])"
   ]
  },
  {
   "cell_type": "markdown",
   "id": "6c5d15a5",
   "metadata": {},
   "source": [
    "The Augmented Dickey-Fuller Test for Verizon stock prices shows the p-value obtained is greater than 0.05. So the null hypothesis that the time series is a random walk holds true. A random walk is non-stationary. In this case non-stationarity is removed by calculating the returns(or taking the difference)"
   ]
  },
  {
   "cell_type": "code",
   "execution_count": 6,
   "id": "6b737535",
   "metadata": {},
   "outputs": [],
   "source": [
    "diff_T = ds['T'].diff()"
   ]
  },
  {
   "cell_type": "markdown",
   "id": "a765503e",
   "metadata": {},
   "source": [
    "Non-stationarity is removed as we observed the results by running the test after taking differences on AT&T stock time series."
   ]
  },
  {
   "cell_type": "code",
   "execution_count": 7,
   "id": "b04aeeb5",
   "metadata": {},
   "outputs": [
    {
     "name": "stdout",
     "output_type": "stream",
     "text": [
      "Results of Dickey-Fuller Test:\n",
      "Test Statistic                -6.760867e+00\n",
      "p-value                        2.794516e-09\n",
      "#Lags Used                     1.200000e+01\n",
      "Number of Observations Used    4.940000e+02\n",
      "Critical Value (1%)           -3.443657e+00\n",
      "Critical Value (5%)           -2.867408e+00\n",
      "Critical Value (10%)          -2.569896e+00\n",
      "dtype: float64\n"
     ]
    }
   ],
   "source": [
    "adf_test(diff_T.dropna())"
   ]
  },
  {
   "cell_type": "code",
   "execution_count": null,
   "id": "08521ac0",
   "metadata": {},
   "outputs": [],
   "source": []
  }
 ],
 "metadata": {
  "kernelspec": {
   "display_name": "Python 3",
   "language": "python",
   "name": "python3"
  },
  "language_info": {
   "codemirror_mode": {
    "name": "ipython",
    "version": 3
   },
   "file_extension": ".py",
   "mimetype": "text/x-python",
   "name": "python",
   "nbconvert_exporter": "python",
   "pygments_lexer": "ipython3",
   "version": "3.10.6"
  }
 },
 "nbformat": 4,
 "nbformat_minor": 5
}
